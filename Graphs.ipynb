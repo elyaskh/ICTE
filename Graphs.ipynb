{
 "cells": [
  {
   "cell_type": "code",
   "execution_count": 41,
   "metadata": {},
   "outputs": [
    {
     "ename": "SyntaxError",
     "evalue": "invalid syntax (<ipython-input-41-45dc9ff1b908>, line 31)",
     "output_type": "error",
     "traceback": [
      "\u001b[1;36m  File \u001b[1;32m\"<ipython-input-41-45dc9ff1b908>\"\u001b[1;36m, line \u001b[1;32m31\u001b[0m\n\u001b[1;33m    $timeStamp = 63573171824975;\u001b[0m\n\u001b[1;37m    ^\u001b[0m\n\u001b[1;31mSyntaxError\u001b[0m\u001b[1;31m:\u001b[0m invalid syntax\n"
     ]
    }
   ],
   "source": [
    "import glob\n",
    "import pandas as pd\n",
    "import matplotlib.pyplot as plt\n",
    "%matplotlib inline\n",
    "\n",
    "AV1 = pd.concat([pd.read_csv(f, sep=',', na_values=\".\") for f in glob.glob('AV1/*.csv')], ignore_index=True)\n",
    "VP9 = pd.concat([pd.read_csv(f, sep=',', na_values=\".\") for f in glob.glob('VP9/*.csv')], ignore_index=True)\n",
    "H264 = pd.concat([pd.read_csv(f, sep=',', na_values=\".\") for f in glob.glob('H264/*.csv')], ignore_index=True)\n",
    "HEVC = pd.concat([pd.read_csv(f, sep=',', na_values=\".\") for f in glob.glob('HEVC/*.csv')], ignore_index=True)\n",
    "\n",
    "AV1.set_axis(['Time', 'Total', 'CPU', 'Monitor', 'Disk', 'Base', 'App', 'Codec'], axis='columns', inplace=True)\n",
    "VP9.set_axis(['Time', 'Total', 'CPU', 'Monitor', 'Disk', 'Base', 'App', 'Codec'], axis='columns', inplace=True)\n",
    "H264.set_axis(['Time', 'Total', 'CPU', 'Monitor', 'Disk', 'Base', 'App', 'Codec'], axis='columns', inplace=True)\n",
    "HEVC.set_axis(['Time', 'Total', 'CPU', 'Monitor', 'Disk', 'Base', 'App', 'Codec'], axis='columns', inplace=True)\n",
    "\n",
    "f = plt.figure()\n",
    "f.set_figwidth(15)\n",
    "f.set_figheight(6)\n",
    "\n",
    "'''\n",
    "plt.plot(AV1.App)\n",
    "plt.plot(VP9.App)\n",
    "plt.plot(H264.App)\n",
    "plt.plot(HEVC.App)\n",
    "plt.ylabel('CPU power consumption (W)')\n",
    "'''\n",
    "AV1_time = AV1[['Time', 'App']]\n",
    "AV1_time.plot(kind='kde')\n",
    "\n",
    "plt.show()"
   ]
  },
  {
   "cell_type": "code",
   "execution_count": 44,
   "metadata": {},
   "outputs": [
    {
     "ename": "OSError",
     "evalue": "[Errno 22] Invalid argument",
     "output_type": "error",
     "traceback": [
      "\u001b[1;31m---------------------------------------------------------------------------\u001b[0m",
      "\u001b[1;31mOSError\u001b[0m                                   Traceback (most recent call last)",
      "\u001b[1;32m<ipython-input-44-beadcff93f2b>\u001b[0m in \u001b[0;36m<module>\u001b[1;34m\u001b[0m\n\u001b[0;32m      1\u001b[0m \u001b[1;32mimport\u001b[0m \u001b[0mdatetime\u001b[0m\u001b[1;33m\u001b[0m\u001b[1;33m\u001b[0m\u001b[0m\n\u001b[0;32m      2\u001b[0m \u001b[0mepoch_time\u001b[0m \u001b[1;33m=\u001b[0m \u001b[1;36m63800000000000\u001b[0m\u001b[1;33m\u001b[0m\u001b[1;33m\u001b[0m\u001b[0m\n\u001b[1;32m----> 3\u001b[1;33m \u001b[0mdatetime_time\u001b[0m \u001b[1;33m=\u001b[0m \u001b[0mdatetime\u001b[0m\u001b[1;33m.\u001b[0m\u001b[0mdatetime\u001b[0m\u001b[1;33m.\u001b[0m\u001b[0mfromtimestamp\u001b[0m\u001b[1;33m(\u001b[0m\u001b[0mepoch_time\u001b[0m\u001b[1;33m)\u001b[0m\u001b[1;33m\u001b[0m\u001b[1;33m\u001b[0m\u001b[0m\n\u001b[0m\u001b[0;32m      4\u001b[0m \u001b[0mprint\u001b[0m\u001b[1;33m(\u001b[0m\u001b[0mdatetime_time\u001b[0m\u001b[1;33m)\u001b[0m\u001b[1;33m\u001b[0m\u001b[1;33m\u001b[0m\u001b[0m\n",
      "\u001b[1;31mOSError\u001b[0m: [Errno 22] Invalid argument"
     ]
    }
   ],
   "source": [
    "import datetime\n",
    "epoch_time = 63800000000000\n",
    "datetime_time = datetime.datetime.fromtimestamp(epoch_time)\n",
    "print(datetime_time)"
   ]
  },
  {
   "cell_type": "code",
   "execution_count": null,
   "metadata": {},
   "outputs": [],
   "source": []
  }
 ],
 "metadata": {
  "kernelspec": {
   "display_name": "Python 3",
   "language": "python",
   "name": "python3"
  },
  "language_info": {
   "codemirror_mode": {
    "name": "ipython",
    "version": 3
   },
   "file_extension": ".py",
   "mimetype": "text/x-python",
   "name": "python",
   "nbconvert_exporter": "python",
   "pygments_lexer": "ipython3",
   "version": "3.8.5"
  }
 },
 "nbformat": 4,
 "nbformat_minor": 4
}
