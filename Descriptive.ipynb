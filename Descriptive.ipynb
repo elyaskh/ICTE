{
 "cells": [
  {
   "cell_type": "code",
   "execution_count": 71,
   "metadata": {},
   "outputs": [
    {
     "name": "stdout",
     "output_type": "stream",
     "text": [
      "Total CPU power consumption of AV1 is 7809.3 W\n",
      "count    1532.000000\n",
      "mean        5.097454\n",
      "std         2.285392\n",
      "min         0.000000\n",
      "25%         3.900000\n",
      "50%         5.200000\n",
      "75%         6.700000\n",
      "max        10.300000\n",
      "Name: App, dtype: float64\n",
      "\n",
      "\n",
      "Total CPU power consumption of VP9 is 229.50000000000003 W\n",
      "count    1470.000000\n",
      "mean        0.156122\n",
      "std         0.101721\n",
      "min         0.000000\n",
      "25%         0.100000\n",
      "50%         0.100000\n",
      "75%         0.200000\n",
      "max         1.100000\n",
      "Name: App, dtype: float64\n",
      "\n",
      "\n",
      "Total CPU power consumption of H.264 is 192.90000000000003 W\n",
      "count    1513.000000\n",
      "mean        0.127495\n",
      "std         0.179719\n",
      "min         0.000000\n",
      "25%         0.000000\n",
      "50%         0.100000\n",
      "75%         0.200000\n",
      "max         1.100000\n",
      "Name: App, dtype: float64\n",
      "\n",
      "\n",
      "Total CPU power consumption of HEVC is 179.10000000000002 W\n",
      "count    1503.000000\n",
      "mean        0.119162\n",
      "std         0.173336\n",
      "min         0.000000\n",
      "25%         0.000000\n",
      "50%         0.000000\n",
      "75%         0.200000\n",
      "max         1.100000\n",
      "Name: App, dtype: float64\n",
      "\n",
      "\n"
     ]
    }
   ],
   "source": [
    "import glob\n",
    "import pandas as pd\n",
    "\n",
    "AV1 = pd.concat([pd.read_csv(f, sep=',', na_values=\".\") for f in glob.glob('AV1/*.csv')], ignore_index=True)\n",
    "VP9 = pd.concat([pd.read_csv(f, sep=',', na_values=\".\") for f in glob.glob('VP9/*.csv')], ignore_index=True)\n",
    "H264 = pd.concat([pd.read_csv(f, sep=',', na_values=\".\") for f in glob.glob('H264/*.csv')], ignore_index=True)\n",
    "HEVC = pd.concat([pd.read_csv(f, sep=',', na_values=\".\") for f in glob.glob('HEVC/*.csv')], ignore_index=True)\n",
    "\n",
    "AV1.set_axis(['Time', 'Total', 'CPU', 'Monitor', 'Disk', 'Base', 'App', 'Codec'], axis='columns', inplace=True)\n",
    "VP9.set_axis(['Time', 'Total', 'CPU', 'Monitor', 'Disk', 'Base', 'App', 'Codec'], axis='columns', inplace=True)\n",
    "H264.set_axis(['Time', 'Total', 'CPU', 'Monitor', 'Disk', 'Base', 'App', 'Codec'], axis='columns', inplace=True)\n",
    "HEVC.set_axis(['Time', 'Total', 'CPU', 'Monitor', 'Disk', 'Base', 'App', 'Codec'], axis='columns', inplace=True)\n",
    "\n",
    "print(\"{} is {} {}\".format(\"Total CPU power consumption of AV1\", AV1['App'].sum(), 'W'))\n",
    "print(AV1['App'].describe())\n",
    "print(\"\\n\")\n",
    "print(\"{} is {} {}\".format(\"Total CPU power consumption of VP9\", VP9['App'].sum(), 'W'))\n",
    "print(VP9['App'].describe())\n",
    "print(\"\\n\")\n",
    "print(\"{} is {} {}\".format(\"Total CPU power consumption of H.264\", H264['App'].sum(), 'W'))\n",
    "print(H264['App'].describe())\n",
    "print(\"\\n\")\n",
    "print(\"{} is {} {}\".format(\"Total CPU power consumption of HEVC\", HEVC['App'].sum(), 'W'))\n",
    "print(HEVC['App'].describe())\n",
    "print(\"\\n\")"
   ]
  },
  {
   "cell_type": "code",
   "execution_count": null,
   "metadata": {},
   "outputs": [],
   "source": []
  }
 ],
 "metadata": {
  "kernelspec": {
   "display_name": "Python 3",
   "language": "python",
   "name": "python3"
  },
  "language_info": {
   "codemirror_mode": {
    "name": "ipython",
    "version": 3
   },
   "file_extension": ".py",
   "mimetype": "text/x-python",
   "name": "python",
   "nbconvert_exporter": "python",
   "pygments_lexer": "ipython3",
   "version": "3.8.5"
  }
 },
 "nbformat": 4,
 "nbformat_minor": 4
}
