{
 "cells": [
  {
   "cell_type": "code",
   "execution_count": 188,
   "metadata": {},
   "outputs": [
    {
     "name": "stdout",
     "output_type": "stream",
     "text": [
      "count    1532.000000\n",
      "mean        5.097454\n",
      "std         2.285392\n",
      "min         0.000000\n",
      "25%         3.900000\n",
      "50%         5.200000\n",
      "75%         6.700000\n",
      "max        10.300000\n",
      "Name: App, dtype: float64\n",
      "\n",
      "\n",
      "count    1470.000000\n",
      "mean        0.156122\n",
      "std         0.101721\n",
      "min         0.000000\n",
      "25%         0.100000\n",
      "50%         0.100000\n",
      "75%         0.200000\n",
      "max         1.100000\n",
      "Name: App, dtype: float64\n",
      "\n",
      "\n",
      "count    1513.000000\n",
      "mean        0.127495\n",
      "std         0.179719\n",
      "min         0.000000\n",
      "25%         0.000000\n",
      "50%         0.100000\n",
      "75%         0.200000\n",
      "max         1.100000\n",
      "Name: App, dtype: float64\n",
      "\n",
      "\n",
      "count    1503.000000\n",
      "mean        0.119162\n",
      "std         0.173336\n",
      "min         0.000000\n",
      "25%         0.000000\n",
      "50%         0.000000\n",
      "75%         0.200000\n",
      "max         1.100000\n",
      "Name: App, dtype: float64\n",
      "\n",
      "\n"
     ]
    }
   ],
   "source": [
    "import glob\n",
    "import pandas as pd\n",
    "\n",
    "AV1 = pd.concat([pd.read_csv(f, sep=',', na_values=\".\") for f in glob.glob('AV1/*.csv')], ignore_index=True)\n",
    "VP9 = pd.concat([pd.read_csv(f, sep=',', na_values=\".\") for f in glob.glob('VP9/*.csv')], ignore_index=True)\n",
    "H264 = pd.concat([pd.read_csv(f, sep=',', na_values=\".\") for f in glob.glob('H264/*.csv')], ignore_index=True)\n",
    "HEVC = pd.concat([pd.read_csv(f, sep=',', na_values=\".\") for f in glob.glob('HEVC/*.csv')], ignore_index=True)\n",
    "\n",
    "AV1.set_axis(['Time', 'Total', 'CPU', 'Monitor', 'Disk', 'Base', 'App', 'Codec'], axis='columns', inplace=True)\n",
    "VP9.set_axis(['Time', 'Total', 'CPU', 'Monitor', 'Disk', 'Base', 'App', 'Codec'], axis='columns', inplace=True)\n",
    "H264.set_axis(['Time', 'Total', 'CPU', 'Monitor', 'Disk', 'Base', 'App', 'Codec'], axis='columns', inplace=True)\n",
    "HEVC.set_axis(['Time', 'Total', 'CPU', 'Monitor', 'Disk', 'Base', 'App', 'Codec'], axis='columns', inplace=True)\n",
    "\n",
    "#print(\"{} is {} {}\".format(\"Total CPU power consumption of AV1\", AV1['App'].sum(), 'W'))\n",
    "print(AV1['App'].describe())\n",
    "print(\"\\n\")\n",
    "#print(\"{} is {} {}\".format(\"Total CPU power consumption of VP9\", VP9['App'].sum(), 'W'))\n",
    "print(VP9['App'].describe())\n",
    "print(\"\\n\")\n",
    "#print(\"{} is {} {}\".format(\"Total CPU power consumption of H.264\", H264['App'].sum(), 'W'))\n",
    "print(H264['App'].describe())\n",
    "print(\"\\n\")\n",
    "#print(\"{} is {} {}\".format(\"Total CPU power consumption of HEVC\", HEVC['App'].sum(), 'W'))\n",
    "print(HEVC['App'].describe())\n",
    "print(\"\\n\")"
   ]
  },
  {
   "cell_type": "code",
   "execution_count": 278,
   "metadata": {},
   "outputs": [
    {
     "name": "stdout",
     "output_type": "stream",
     "text": [
      "The mean CPU power consumption of AV1 video streaming is 4297.15 W\n",
      "The mean CPU power consumption of VP9 video streaming is 128.74 W\n",
      "The mean CPU power consumption of H.264 video streaming is 118.57000000000001 W\n",
      "The mean CPU power consumption of HEVC video streaming is 110.85 W\n"
     ]
    }
   ],
   "source": [
    "import glob\n",
    "import pandas as pd\n",
    "import numpy as np\n",
    "\n",
    "AV1_App_means = []\n",
    "AV1 = pd.DataFrame()\n",
    "\n",
    "for x in range(1,11):\n",
    "   AV1 = AV1.append(pd.read_csv('AV1/AV1-'+str(x)+'.csv', sep=',', na_values=\".\"), ignore_index=False)\n",
    "   AV1_App = float(AV1.loc[:,\" Application (W)\"].sum())\n",
    "   AV1_App_means = np.append(AV1_App_means, AV1_App)\n",
    "print(\"{} is {} {}\".format(\"The mean CPU power consumption of AV1 video streaming\", np.mean(AV1_App_means), 'W'))\n",
    "###################################################################\n",
    "VP9_App_means = []\n",
    "VP9 = pd.DataFrame()\n",
    "\n",
    "for x in range(1,11):\n",
    "   VP9 = VP9.append(pd.read_csv('VP9/VP9-'+str(x)+'.csv', sep=',', na_values=\".\"), ignore_index=False)\n",
    "   VP9_App = float(VP9.loc[:,\" Application (W)\"].sum())\n",
    "   VP9_App_means = np.append(VP9_App_means, VP9_App)\n",
    "print(\"{} is {} {}\".format(\"The mean CPU power consumption of VP9 video streaming\", np.mean(VP9_App_means), 'W'))\n",
    "###################################################################\n",
    "H264_App_means = []\n",
    "H264 = pd.DataFrame()\n",
    "\n",
    "for x in range(1,11):\n",
    "   H264 = H264.append(pd.read_csv('H264/X264-'+str(x)+'.csv', sep=',', na_values=\".\"), ignore_index=False)\n",
    "   H264_App = float(H264.loc[:,\" Application (W)\"].sum())\n",
    "   H264_App_means = np.append(H264_App_means, H264_App)\n",
    "print(\"{} is {} {}\".format(\"The mean CPU power consumption of H.264 video streaming\", np.mean(H264_App_means), 'W'))\n",
    "###################################################################\n",
    "HEVC_App_means = []\n",
    "HEVC = pd.DataFrame()\n",
    "\n",
    "for x in range(1,11):\n",
    "   HEVC = HEVC.append(pd.read_csv('HEVC/X265-'+str(x)+'.csv', sep=',', na_values=\".\"), ignore_index=False)\n",
    "   HEVC_App = float(HEVC.loc[:,\" Application (W)\"].sum())\n",
    "   HEVC_App_means = np.append(HEVC_App_means, HEVC_App)\n",
    "print(\"{} is {} {}\".format(\"The mean CPU power consumption of HEVC video streaming\", np.mean(HEVC_App_means), 'W'))"
   ]
  },
  {
   "cell_type": "code",
   "execution_count": 276,
   "metadata": {},
   "outputs": [
    {
     "data": {
      "image/png": "[encoded data removed]",
      "text/plain": [
       "<Figure size 432x216 with 1 Axes>"
      ]
     },
     "metadata": {},
     "output_type": "display_data"
    }
   ],
   "source": [
    "import numpy as np\n",
    "import matplotlib.pyplot as plt\n",
    "\n",
    "fig, ax = plt.subplots(figsize=(6, 3), subplot_kw=dict(aspect=\"equal\"))\n",
    "\n",
    "\n",
    "sizes = [1.001837551, 0.0300144436, 0.0276434098, 0.025843569]\n",
    "labels = 'AV1', 'VP9', 'H.264', 'HEVC'\n",
    "\n",
    "\n",
    "def func(pct, allvals):\n",
    "    absolute = int(round(pct/100.*np.sum(allvals)))\n",
    "    return \"{:.1f}%\\n\".format(pct, absolute)\n",
    "\n",
    "wedges, texts, autotexts = ax.pie(sizes, autopct=lambda pct: func(pct, sizes), radius=2,\n",
    "                                  textprops=dict(color=\"w\"))\n",
    "\n",
    "ax.legend(wedges, labels,\n",
    "          title=\"labels\",\n",
    "          loc=\"center left\",\n",
    "          bbox_to_anchor=(1.4, 0, 0.5, 1))\n",
    "\n",
    "plt.setp(autotexts, size=10, weight=\"bold\")\n",
    "\n",
    "ax.set_title(\"Emission comparison\")\n",
    "\n",
    "plt.show()"
   ]
  },
  {
   "cell_type": "code",
   "execution_count": 279,
   "metadata": {},
   "outputs": [
    {
     "data": {
      "image/png": "[encoded data removed]",
      "text/plain": [
       "<Figure size 432x216 with 1 Axes>"
      ]
     },
     "metadata": {},
     "output_type": "display_data"
    }
   ],
   "source": [
    "fig, ax = plt.subplots(figsize=(6, 3), subplot_kw=dict(aspect=\"equal\"))\n",
    "\n",
    "sizes = [1.001837551, 0.0300144436, 0.0276434098, 0.025843569]\n",
    "label = 'AV1', 'VP9', 'H.264', 'HEVC'\n",
    "\n",
    "wedges, texts = ax.pie(sizes, wedgeprops=dict(width=0.5), startangle=10)\n",
    "\n",
    "bbox_props = dict(boxstyle=\"square,pad=0.3\", fc=\"w\", ec=\"k\", lw=0.72)\n",
    "kw = dict(arrowprops=dict(arrowstyle=\"-\"),\n",
    "          bbox=bbox_props, zorder=0, va=\"center\")\n",
    "\n",
    "\n",
    "for i, p in enumerate(wedges):\n",
    "    ang = (p.theta2 - p.theta1)/2. + p.theta1\n",
    "    y = np.sin(np.deg2rad(ang))\n",
    "    x = np.cos(np.deg2rad(ang))\n",
    "    horizontalalignment = {-1: \"right\", 1: \"left\"}[int(np.sign(x))]\n",
    "    connectionstyle = \"angle,angleA=0,angleB={}\".format(ang)\n",
    "    kw[\"arrowprops\"].update({\"connectionstyle\": connectionstyle})\n",
    "    ax.annotate(label[i], xy=(x, y), xytext=(1.35*np.sign(x), 1.4*y),\n",
    "                horizontalalignment=horizontalalignment, **kw)\n",
    "\n",
    "ax.set_title(\"Emission Comparison\")\n",
    "\n",
    "plt.show()"
   ]
  },
  {
   "cell_type": "code",
   "execution_count": 277,
   "metadata": {},
   "outputs": [
    {
     "name": "stdout",
     "output_type": "stream",
     "text": [
      "count    1532.000000\n",
      "mean       27.357898\n",
      "std         2.655172\n",
      "min        21.000000\n",
      "25%        25.800000\n",
      "50%        27.300000\n",
      "75%        29.100000\n",
      "max        35.700000\n",
      "Name: Total, dtype: float64\n",
      "\n",
      "\n",
      "count    1470.000000\n",
      "mean       21.872449\n",
      "std         0.857893\n",
      "min        21.000000\n",
      "25%        21.500000\n",
      "50%        21.700000\n",
      "75%        22.000000\n",
      "max        33.400000\n",
      "Name: Total, dtype: float64\n",
      "\n",
      "\n",
      "count    1513.000000\n",
      "mean       22.621613\n",
      "std         1.788274\n",
      "min        21.000000\n",
      "25%        21.800000\n",
      "50%        22.100000\n",
      "75%        22.500000\n",
      "max        38.300000\n",
      "Name: Total, dtype: float64\n",
      "\n",
      "\n",
      "count    1503.000000\n",
      "mean       22.597871\n",
      "std         2.287457\n",
      "min        21.000000\n",
      "25%        21.500000\n",
      "50%        21.800000\n",
      "75%        22.300000\n",
      "max        42.500000\n",
      "Name: Total, dtype: float64\n",
      "\n",
      "\n"
     ]
    }
   ],
   "source": [
    "import glob\n",
    "import pandas as pd\n",
    "\n",
    "AV1 = pd.concat([pd.read_csv(f, sep=',', na_values=\".\") for f in glob.glob('AV1/*.csv')], ignore_index=True)\n",
    "VP9 = pd.concat([pd.read_csv(f, sep=',', na_values=\".\") for f in glob.glob('VP9/*.csv')], ignore_index=True)\n",
    "H264 = pd.concat([pd.read_csv(f, sep=',', na_values=\".\") for f in glob.glob('H264/*.csv')], ignore_index=True)\n",
    "HEVC = pd.concat([pd.read_csv(f, sep=',', na_values=\".\") for f in glob.glob('HEVC/*.csv')], ignore_index=True)\n",
    "\n",
    "AV1.set_axis(['Time', 'Total', 'CPU', 'Monitor', 'Disk', 'Base', 'App', 'Codec'], axis='columns', inplace=True)\n",
    "VP9.set_axis(['Time', 'Total', 'CPU', 'Monitor', 'Disk', 'Base', 'App', 'Codec'], axis='columns', inplace=True)\n",
    "H264.set_axis(['Time', 'Total', 'CPU', 'Monitor', 'Disk', 'Base', 'App', 'Codec'], axis='columns', inplace=True)\n",
    "HEVC.set_axis(['Time', 'Total', 'CPU', 'Monitor', 'Disk', 'Base', 'App', 'Codec'], axis='columns', inplace=True)\n",
    "\n",
    "#print(\"{} is {} {}\".format(\"Total CPU power consumption of AV1\", AV1['App'].sum(), 'W'))\n",
    "print(AV1['Total'].describe())\n",
    "print(\"\\n\")\n",
    "#print(\"{} is {} {}\".format(\"Total CPU power consumption of VP9\", VP9['App'].sum(), 'W'))\n",
    "print(VP9['Total'].describe())\n",
    "print(\"\\n\")\n",
    "#print(\"{} is {} {}\".format(\"Total CPU power consumption of H.264\", H264['App'].sum(), 'W'))\n",
    "print(H264['Total'].describe())\n",
    "print(\"\\n\")\n",
    "#print(\"{} is {} {}\".format(\"Total CPU power consumption of HEVC\", HEVC['App'].sum(), 'W'))\n",
    "print(HEVC['Total'].describe())\n",
    "print(\"\\n\")"
   ]
  },
  {
   "cell_type": "code",
   "execution_count": null,
   "metadata": {},
   "outputs": [],
   "source": []
  }
 ],
 "metadata": {
  "kernelspec": {
   "display_name": "Python 3",
   "language": "python",
   "name": "python3"
  },
  "language_info": {
   "codemirror_mode": {
    "name": "ipython",
    "version": 3
   },
   "file_extension": ".py",
   "mimetype": "text/x-python",
   "name": "python",
   "nbconvert_exporter": "python",
   "pygments_lexer": "ipython3",
   "version": "3.8.5"
  }
 },
 "nbformat": 4,
 "nbformat_minor": 4
}
