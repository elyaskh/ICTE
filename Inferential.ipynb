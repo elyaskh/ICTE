{
 "cells": [
  {
   "cell_type": "code",
   "execution_count": null,
   "metadata": {},
   "outputs": [],
   "source": [
    "import glob\n",
    "import pandas as pd\n",
    "import scipy.stats as stats\n",
    "\n",
    "AV1 = pd.concat([pd.read_csv(f, sep=',', na_values=\".\") for f in glob.glob('AV1/*.csv')], ignore_index=True)\n",
    "VP9 = pd.concat([pd.read_csv(f, sep=',', na_values=\".\") for f in glob.glob('VP9/*.csv')], ignore_index=True)\n",
    "H264 = pd.concat([pd.read_csv(f, sep=',', na_values=\".\") for f in glob.glob('H264/*.csv')], ignore_index=True)\n",
    "HEVC = pd.concat([pd.read_csv(f, sep=',', na_values=\".\") for f in glob.glob('HEVC/*.csv')], ignore_index=True)\n",
    "\n",
    "AV1.set_axis(['Time', 'Total', 'CPU', 'Monitor', 'Disk', 'Base', 'App', 'Codec'], axis='columns', inplace=True)\n",
    "VP9.set_axis(['Time', 'Total', 'CPU', 'Monitor', 'Disk', 'Base', 'App', 'Codec'], axis='columns', inplace=True)\n",
    "H264.set_axis(['Time', 'Total', 'CPU', 'Monitor', 'Disk', 'Base', 'App', 'Codec'], axis='columns', inplace=True)\n",
    "HEVC.set_axis(['Time', 'Total', 'CPU', 'Monitor', 'Disk', 'Base', 'App', 'Codec'], axis='columns', inplace=True)\n",
    "\n",
    "Bf = df[[1,3,4,5]][df[1] == 'B']\n",
    "Ff = df[[1,3,4,5]][df[1] == 'F']\n",
    "Sf = df[[1,3,4,5]][df[1] == 'S']\n",
    "\n",
    "alpha = 0.05\n",
    "\n",
    "fvalue, pvalue = stats.f_oneway(Bf[3], Ff[3], Sf[3])\n",
    "print(\"F Value (x)  = {:g} \".format(fvalue))\n",
    "print(\"P Value (x)  = {:g} \".format(pvalue))\n",
    "if pvalue < alpha:  # null hypothesis: x comes from a normal distribution\n",
    "    print(\"The null hypothesis can be rejected\")\n",
    "else:\n",
    "    print(\"The null hypothesis is accepted\")\n",
    "print(\"\\n\")\n",
    "fvalue, pvalue = stats.f_oneway(Bf[4], Ff[4], Sf[4])\n",
    "print(\"F Value (y)  = {:g} \".format(fvalue))\n",
    "print(\"P Value (y)  = {:g} \".format(pvalue))\n",
    "if pvalue < alpha:  # null hypothesis: x comes from a normal distribution\n",
    "    print(\"The null hypothesis can be rejected\")\n",
    "else:\n",
    "    print(\"The null hypothesis is accepted\")\n",
    "print(\"\\n\")\n",
    "fvalue, pvalue = stats.f_oneway(Bf[5], Ff[5], Sf[5])\n",
    "print(\"F Value (z)  = {:g} \".format(fvalue))\n",
    "print(\"P Value (z)  = {:g} \".format(pvalue))\n",
    "if pvalue < alpha:  # null hypothesis: x comes from a normal distribution\n",
    "    print(\"The null hypothesis can be rejected\")\n",
    "else:\n",
    "    print(\"The null hypothesis is accepted\")"
   ]
  }
 ],
 "metadata": {
  "kernelspec": {
   "display_name": "Python 3",
   "language": "python",
   "name": "python3"
  },
  "language_info": {
   "codemirror_mode": {
    "name": "ipython",
    "version": 3
   },
   "file_extension": ".py",
   "mimetype": "text/x-python",
   "name": "python",
   "nbconvert_exporter": "python",
   "pygments_lexer": "ipython3",
   "version": "3.8.5"
  }
 },
 "nbformat": 4,
 "nbformat_minor": 4
}
